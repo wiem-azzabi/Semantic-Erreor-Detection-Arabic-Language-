{
 "cells": [
  {
   "attachments": {},
   "cell_type": "markdown",
   "metadata": {},
   "source": [
    "## AraBert / AraGPT Model\n",
    "* Github model source link : https://github.com/aub-mind/arabert"
   ]
  },
  {
   "attachments": {},
   "cell_type": "markdown",
   "metadata": {},
   "source": [
    "# AraELECTRA Model\n",
    "* use the detector\n",
    "* si un mot n'est pas similaire au mots générés par le modele ,alors il peut contenir une erreur"
   ]
  },
  {
   "cell_type": "code",
   "execution_count": 5,
   "metadata": {},
   "outputs": [],
   "source": [
    "from transformers import pipeline\n",
    "from arabert.preprocess import ArabertPreprocessor\n",
    "\n",
    "#MODEL_NAME = 'aubmindlab/aragpt2-base' error\n",
    "#MODEL_NAME = 'aubmindlab/Araelectra-base-discriminator ' error\n",
    "#MODEL_NAME = 'aubmindlab/Araelectra-base-generator'\n",
    "MODEL_NAME = 'aubmindlab/bert-base-arabertv02-twitter'\n"
   ]
  },
  {
   "cell_type": "code",
   "execution_count": 6,
   "metadata": {},
   "outputs": [],
   "source": [
    "MODEL_NAME = 'aubmindlab/Araelectra-base-generator'\n",
    "fill_mask = pipeline(task=\"fill-mask\",model=MODEL_NAME,tokenizer=MODEL_NAME)\n",
    "#print(fill_mask(\" عاصمة لبنان هي [MASK] \" ))\n",
    "#result : \n",
    "#[\n",
    "#{'score': 0.18456363677978516, 'token': 2079, 'token_str': 'بيروت', 'sequence': 'عاصمة لبنان هي بيروت'},\n",
    "#{'score': 0.10975801199674606, 'token': 31, 'token_str': ':', 'sequence': 'عاصمة لبنان هي :'},\n",
    "#{'score': 0.039298899471759796, 'token': 911, 'token_str': 'لبنان', 'sequence': 'عاصمة لبنان هي لبنان'},\n",
    "#{'score': 0.03792791813611984, 'token': 3743, 'token_str': 'باريس', 'sequence': 'عاصمة لبنان هي باريس'},,\n",
    "#{'score': 0.03269968181848526, 'token': 3306, 'token_str': 'القدس', 'sequence': 'عاصمة لبنان هي القدس'}\n",
    "# ]\n"
   ]
  },
  {
   "cell_type": "code",
   "execution_count": 7,
   "metadata": {},
   "outputs": [
    {
     "name": "stdout",
     "output_type": "stream",
     "text": [
      "you wrote :  القسم\n",
      "did you mean :  القدم ?\n"
     ]
    }
   ],
   "source": [
    "#-- testing the method\n",
    "import util as ut\n",
    "text= \"حقق منتخبنا الوطني الاول لكرة [MASK] كل اهدافه المطلوبة\"\n",
    "mask = \"القسم\"\n",
    "words = fill_mask(\"حقق منتخبنا الوطني الاول لكرة [MASK] كل اهدافه المطلوبة\")\n",
    "#words = \"حقق منتخبنا الوطني الاول لكرة القسم كل اهدافه المطلوبة\"\n",
    "s=[]\n",
    "t=[]\n",
    "for e in words:\n",
    "    t.append(e['token_str'])\n",
    "    s.append(e['sequence'])\n",
    "print(\"you wrote : \", mask)\n",
    "print(\"did you mean : \",ut.lookslike(t,[mask]),\"?\")\n"
   ]
  },
  {
   "cell_type": "code",
   "execution_count": 8,
   "metadata": {},
   "outputs": [],
   "source": [
    "def replace(mask, text):\n",
    "    text = text.split()\n",
    "    text = list(map(lambda x: x.replace(mask, '[MASK]'), text))\n",
    "    text = ' '.join(str(x) for x in text)\n",
    "    return(text)\n"
   ]
  },
  {
   "cell_type": "code",
   "execution_count": 41,
   "metadata": {},
   "outputs": [],
   "source": [
    "import util as ut\n",
    "text = \"حقق منتخبنا الوطني الاول لكرة القسم كل اهدافه المطلوبة\"\n",
    "\n",
    "def analyse(text):\n",
    "    ok =True\n",
    "    res=[]\n",
    "    print(\"your text = \",text,\"\\n\")\n",
    "    for mask in text.split():\n",
    "        masked_text = replace(mask,text)\n",
    "        words = fill_mask(masked_text)\n",
    "        s=[]\n",
    "        t=[]\n",
    "        for e in words:\n",
    "    #        t.append(e['token_str'])\n",
    "            t.append(ut.clean_str(e['token_str']))\n",
    "            s.append(e['sequence'])\n",
    "        correct = ut.lookslike(t, [ut.clean_str(mask)]) #les mots parmi les mots générs qui ressemblent au mot à analyser\n",
    "    #    correct = ut.lookslike(t, [mask])\n",
    "    #    if correct != ut.clean_str(mask):\n",
    "        if correct != mask and correct:\n",
    "            print(\"you wrote : [ \", mask , \"] did you mean : [ \",correct,\"] ?\")\n",
    "            ok = False\n",
    "            res.append((mask,correct))\n",
    "    if ok :\n",
    "        print(\"This sentence contains 0 errors \")\n",
    "    return(res)"
   ]
  },
  {
   "cell_type": "code",
   "execution_count": 42,
   "metadata": {},
   "outputs": [
    {
     "name": "stdout",
     "output_type": "stream",
     "text": [
      "your text =  حقق منتخبنا الوطني الاول لكرة القسم كل اهدافه المطلوبة \n",
      "\n",
      "you wrote : [  حقق ] did you mean : [  وحقق ] ?\n",
      "you wrote : [  منتخبنا ] did you mean : [  لمنتخبنا ] ?\n",
      "you wrote : [  القسم ] did you mean : [  القدم ] ?\n"
     ]
    },
    {
     "data": {
      "text/plain": [
       "[('حقق', 'وحقق'), ('منتخبنا', 'لمنتخبنا'), ('القسم', 'القدم')]"
      ]
     },
     "execution_count": 42,
     "metadata": {},
     "output_type": "execute_result"
    }
   ],
   "source": [
    "analyse(text)"
   ]
  },
  {
   "attachments": {},
   "cell_type": "markdown",
   "metadata": {},
   "source": [
    "# Evaluation du modele \n",
    "*  si y_test n'apprtient pas à la liste générée res => loss"
   ]
  },
  {
   "cell_type": "code",
   "execution_count": 43,
   "metadata": {},
   "outputs": [],
   "source": [
    "# parcours de la data \n",
    "# test \n",
    "#evaluation\n"
   ]
  },
  {
   "attachments": {},
   "cell_type": "markdown",
   "metadata": {},
   "source": [
    "# combinaison de modeles AraVec et AraELECTRA \n",
    "* aravec + aralecetra \n",
    "* calcul similarités (avec aravec) entres les mots suggérés par (araelectra)\n",
    "*   araelectra suggere des couples (mot, erreur)\n",
    "*   aravec retourne la meilleure correction \n",
    "*       similarité(منتخبنا, لمنتخبنا)>similarite(القسم,القدم)--> le mot erroné exact est \"القسم\""
   ]
  },
  {
   "cell_type": "code",
   "execution_count": 38,
   "metadata": {},
   "outputs": [],
   "source": [
    "import gensim\n",
    "import re  # regularexpression\n",
    "import spacy\n",
    "import nltk\n",
    "import util as ut\n",
    "from gensim import matutils  # utility fnc for pickling, common scipy operations etc\n",
    "import numpy as np\n",
    "import math\n"
   ]
  },
  {
   "cell_type": "code",
   "execution_count": 39,
   "metadata": {},
   "outputs": [],
   "source": [
    "#load Aravec model \n",
    "nlp = spacy.load(\"./spacy.aravec.model/\")\n",
    "# Define the preprocessing Class\n",
    "\n",
    "\n",
    "class Preprocessor:\n",
    "    def __init__(self, tokenizer, **cfg):\n",
    "        self.tokenizer = tokenizer\n",
    "\n",
    "    def __call__(self, text):\n",
    "        preprocessed = ut.clean_str(text)\n",
    "        return self.tokenizer(preprocessed)\n"
   ]
  },
  {
   "cell_type": "code",
   "execution_count": 44,
   "metadata": {},
   "outputs": [],
   "source": [
    "def combinedModels(text):\n",
    "    a = analyse(text)\n",
    "    sim= [nlp(x).similarity(nlp(y)) for x,y in a]\n",
    "    error = a[sim.index(min(sim))]\n",
    "    print(\"\\n the exact error is in word\",error[0])"
   ]
  },
  {
   "attachments": {},
   "cell_type": "markdown",
   "metadata": {},
   "source": [
    "execution"
   ]
  },
  {
   "cell_type": "code",
   "execution_count": 45,
   "metadata": {},
   "outputs": [
    {
     "name": "stdout",
     "output_type": "stream",
     "text": [
      "your text =  حقق منتخبنا الوطني الاول لكرة القسم كل اهدافه المطلوبة \n",
      "\n",
      "you wrote : [  حقق ] did you mean : [  وحقق ] ?\n",
      "you wrote : [  منتخبنا ] did you mean : [  لمنتخبنا ] ?\n",
      "you wrote : [  القسم ] did you mean : [  القدم ] ?\n",
      "\n",
      " the exact error is in word القسم\n"
     ]
    }
   ],
   "source": [
    "combinedModels(text)\n"
   ]
  },
  {
   "cell_type": "code",
   "execution_count": null,
   "metadata": {},
   "outputs": [],
   "source": []
  }
 ],
 "metadata": {
  "kernelspec": {
   "display_name": "Python 3",
   "language": "python",
   "name": "python3"
  },
  "language_info": {
   "codemirror_mode": {
    "name": "ipython",
    "version": 3
   },
   "file_extension": ".py",
   "mimetype": "text/x-python",
   "name": "python",
   "nbconvert_exporter": "python",
   "pygments_lexer": "ipython3",
   "version": "3.9.0"
  },
  "orig_nbformat": 4,
  "vscode": {
   "interpreter": {
    "hash": "f6c8f846148a3e4d140e6ddf63c190cff559dcf260a4a21539f0978f2b58638c"
   }
  }
 },
 "nbformat": 4,
 "nbformat_minor": 2
}
